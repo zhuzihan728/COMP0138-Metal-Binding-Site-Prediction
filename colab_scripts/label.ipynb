{
  "cells": [
    {
      "cell_type": "markdown",
      "metadata": {
        "id": "view-in-github",
        "colab_type": "text"
      },
      "source": [
        "<a href=\"https://colab.research.google.com/github/zhuzihan728/COMP0138-Metal-Binding-Site-Prediction/blob/main/colab_scripts/label.ipynb\" target=\"_parent\"><img src=\"https://colab.research.google.com/assets/colab-badge.svg\" alt=\"Open In Colab\"/></a>"
      ]
    },
    {
      "cell_type": "markdown",
      "source": [
        "# Import libs"
      ],
      "metadata": {
        "id": "7VzTm8igMquv"
      }
    },
    {
      "cell_type": "code",
      "source": [
        "!pip install biopython"
      ],
      "metadata": {
        "colab": {
          "base_uri": "https://localhost:8080/"
        },
        "id": "930Rd5-NtmD4",
        "outputId": "1c0bcd76-8ebf-42f6-844e-9f41e4553953"
      },
      "execution_count": null,
      "outputs": [
        {
          "output_type": "stream",
          "name": "stdout",
          "text": [
            "Looking in indexes: https://pypi.org/simple, https://us-python.pkg.dev/colab-wheels/public/simple/\n",
            "Collecting biopython\n",
            "  Downloading biopython-1.81-cp39-cp39-manylinux_2_17_x86_64.manylinux2014_x86_64.whl (3.1 MB)\n",
            "\u001b[2K     \u001b[90m━━━━━━━━━━━━━━━━━━━━━━━━━━━━━━━━━━━━━━━━\u001b[0m \u001b[32m3.1/3.1 MB\u001b[0m \u001b[31m31.3 MB/s\u001b[0m eta \u001b[36m0:00:00\u001b[0m\n",
            "\u001b[?25hRequirement already satisfied: numpy in /usr/local/lib/python3.9/dist-packages (from biopython) (1.22.4)\n",
            "Installing collected packages: biopython\n",
            "Successfully installed biopython-1.81\n"
          ]
        }
      ]
    },
    {
      "cell_type": "code",
      "source": [
        "import pandas as pd\n",
        "import numpy as np\n",
        "from Bio import SeqIO\n",
        "import sys\n",
        "import h5py\n",
        "import json"
      ],
      "metadata": {
        "id": "50M4l14vL6uf"
      },
      "execution_count": null,
      "outputs": []
    },
    {
      "cell_type": "markdown",
      "source": [
        "# Extract datasets"
      ],
      "metadata": {
        "id": "pWelIL4ZNxSo"
      }
    },
    {
      "cell_type": "code",
      "execution_count": null,
      "metadata": {
        "id": "wDv90PvMJ9Yy"
      },
      "outputs": [],
      "source": [
        "#!tar -xvf /content/drive/MyDrive/FYP/miniconda -C /root"
      ]
    },
    {
      "cell_type": "code",
      "execution_count": null,
      "metadata": {
        "colab": {
          "base_uri": "https://localhost:8080/"
        },
        "id": "MDMy_TriQhKU",
        "outputId": "e2f72c6e-0154-4a39-8130-51bdcf36ffbc"
      },
      "outputs": [
        {
          "output_type": "stream",
          "name": "stdout",
          "text": [
            "ChEBI-IDs_for_metal_binding.tsv\n",
            "NEG_clustered_rep_seq.fasta\n",
            "NEG_TRAIN.fasta\n",
            "POS_TRAIN.fasta\n",
            "POS_TRAIN_FULL.fasta\n",
            "POS_TRAIN_FULL.tsv\n",
            "POS_TRAIN.tsv\n",
            "filtered_combined.fasta\n",
            "trimed_combined.fasta\n"
          ]
        }
      ],
      "source": [
        "!tar -xvf /content/drive/MyDrive/FYP/uniprot_datasets -C /content"
      ]
    },
    {
      "cell_type": "code",
      "source": [
        "!tar -zxvf /content/drive/MyDrive/FYP/data.tar.gz -C /content"
      ],
      "metadata": {
        "colab": {
          "base_uri": "https://localhost:8080/"
        },
        "id": "qnbtNc_3h9NS",
        "outputId": "a5590f64-4849-495a-e2f1-e87429b51c86"
      },
      "execution_count": null,
      "outputs": [
        {
          "output_type": "stream",
          "name": "stdout",
          "text": [
            "./data/\n",
            "./data/train_neg15.fasta\n",
            "./data/test_full.fasta\n",
            "./data/test.fasta\n",
            "./data/train_neg7.fasta\n",
            "./data/train_neg9.fasta\n",
            "./data/train_neg8.fasta\n",
            "./data/train_neg13.fasta\n",
            "./data/train_pos.fasta\n",
            "./data/train_neg11.fasta\n",
            "./data/train_neg0.fasta\n",
            "./data/train_neg6.fasta\n",
            "./data/train_neg2.fasta\n",
            "./data/train_neg14.fasta\n",
            "./data/train_neg5.fasta\n",
            "./data/train_neg3.fasta\n",
            "./data/train_neg10.fasta\n",
            "./data/train_neg12.fasta\n",
            "./data/train_neg1.fasta\n",
            "./data/train_neg4.fasta\n"
          ]
        }
      ]
    },
    {
      "cell_type": "code",
      "source": [
        "!cat POS_TRAIN.fasta NEG_TRAIN.fasta > combined.fasta"
      ],
      "metadata": {
        "id": "8126C7qKa2m5"
      },
      "execution_count": null,
      "outputs": []
    },
    {
      "cell_type": "code",
      "source": [
        "total_len = len(list(SeqIO.parse(\"combined.fasta\", \"fasta\")))\n",
        "print(\"Full data set size: \", total_len)"
      ],
      "metadata": {
        "id": "AEmhzBlBL_y7",
        "colab": {
          "base_uri": "https://localhost:8080/"
        },
        "outputId": "5b337b9d-7d1e-4e1c-f8ed-53e2b8e3c156"
      },
      "execution_count": null,
      "outputs": [
        {
          "output_type": "stream",
          "name": "stdout",
          "text": [
            "Full data set size:  195450\n"
          ]
        }
      ]
    },
    {
      "cell_type": "code",
      "source": [
        "!cp /content/drive/MyDrive/FYP/dicts/class_encode.json class_encode.json"
      ],
      "metadata": {
        "id": "ewC0iIqlQbh9"
      },
      "execution_count": null,
      "outputs": []
    },
    {
      "cell_type": "code",
      "source": [
        "!cp /content/drive/MyDrive/FYP/dicts/coalesced_encode.json coalesced_encode.json"
      ],
      "metadata": {
        "id": "tWJAWYlwQdzD"
      },
      "execution_count": null,
      "outputs": []
    },
    {
      "cell_type": "markdown",
      "source": [
        "# Helper functions"
      ],
      "metadata": {
        "id": "wVTD_KVwrK0h"
      }
    },
    {
      "cell_type": "code",
      "source": [
        "def check_metal(seqs, metal, anno, metal_count_df):\n",
        "  cnt = 0\n",
        "  temp = anno.loc[anno['Accession'].isin(seqs)]\n",
        "  temp1 = temp['ChEBI-ID'].value_counts().to_frame().reset_index()\n",
        "  row = temp1[temp1['index'] == metal]['ChEBI-ID']\n",
        "  cnt = 0 if len(row) == 0 else int(row)\n",
        "  per = cnt / int(metal_count_df[metal_count_df['ChEBI-ID'] == metal]['count'])\n",
        "  return per"
      ],
      "metadata": {
        "id": "580imTBprK0h"
      },
      "execution_count": null,
      "outputs": []
    },
    {
      "cell_type": "code",
      "source": [
        "def check_metal_num(seqs, metal, anno):\n",
        "  cnt = 0\n",
        "  temp = anno.loc[anno['Accession'].isin(seqs)]\n",
        "  temp1 = temp['ChEBI-ID'].value_counts().to_frame().reset_index()\n",
        "  row = temp1[temp1['index'] == metal]['ChEBI-ID']\n",
        "  cnt = 0 if len(row) == 0 else int(row)\n",
        "  return cnt"
      ],
      "metadata": {
        "id": "yCVh5cQ6xLV7"
      },
      "execution_count": null,
      "outputs": []
    },
    {
      "cell_type": "code",
      "source": [
        "def check_metal_specific_residue_proportion(acc_ls, source = 'POS_TRAIN_FULL.tsv', use_trimed=True):\n",
        "  anno = pd.read_csv(source, sep='\\t')\n",
        "  metal_count_df = anno['ChEBI-ID'].value_counts().to_frame().reset_index()\n",
        "  metal_count_df.columns = ['ChEBI-ID', 'count']\n",
        "  if use_trimed:\n",
        "    acc, _ = fasta2acc_seq_ls(\"trimed_combined.fasta\")\n",
        "    temp_cnt = []\n",
        "    for i in metal_count_df['ChEBI-ID']:\n",
        "      temp_cnt.append(check_metal_num(acc, i, anno))\n",
        "    metal_count_df = pd.DataFrame({'ChEBI-ID': metal_count_df['ChEBI-ID'], 'count': temp_cnt})\n",
        "  metal_id_name_df = pd.read_csv('ChEBI-IDs_for_metal_binding.tsv', sep='\\t')\n",
        "  for metal in metal_count_df['ChEBI-ID'].unique():\n",
        "    metal_name = metal_id_name_df[metal_id_name_df['ChEBI-ID']==metal]['Name'].iloc[0]\n",
        "    per = check_metal(acc_ls, metal, anno, metal_count_df) \n",
        "    num = int(metal_count_df[metal_count_df['ChEBI-ID'] == metal]['count'])\n",
        "    print(f'{metal:12}| {metal_name:29} | num: {int(num*per):6} | %: {per}')"
      ],
      "metadata": {
        "id": "DBRAzQDXrK0h"
      },
      "execution_count": null,
      "outputs": []
    },
    {
      "cell_type": "code",
      "source": [
        "def write_seq_ls2fasta(file_out, ls, source):\n",
        "  with open(file_out, 'w') as f_out:\n",
        "    for seq_record in SeqIO.parse(source, \"fasta\"):\n",
        "      seq_acc = seq_record.id.split('|')[1]\n",
        "      if seq_acc in ls:\n",
        "        r = SeqIO.write(seq_record, f_out, 'fasta')\n",
        "\n",
        "        if r!=1: \n",
        "          print('Error while writing sequence: ' + seq_acc)\n",
        "        else:\n",
        "          print(f'writing {seq_acc} to train fasta file.')"
      ],
      "metadata": {
        "id": "sFqC0B0ErK0i"
      },
      "execution_count": null,
      "outputs": []
    },
    {
      "cell_type": "code",
      "source": [
        "def fasta2acc_seq_ls(path):\n",
        "  acc = []\n",
        "  seq = []\n",
        "\n",
        "  for seq_record in SeqIO.parse(path, \"fasta\"):\n",
        "    acc.append(seq_record.id.split('|')[1])\n",
        "    seq.append(str(seq_record.seq))\n",
        "  return acc, seq"
      ],
      "metadata": {
        "id": "2J0NgVRirK0i"
      },
      "execution_count": null,
      "outputs": []
    },
    {
      "cell_type": "code",
      "source": [
        "def check_pos_neg_proportion(ls):\n",
        "  total_num = len(ls)\n",
        "  \n",
        "  acc, _ = fasta2acc_seq_ls(\"POS_TRAIN_FULL.fasta\")\n",
        "  inter = set(acc).intersection(ls)\n",
        "  pos_num = len(inter)\n",
        "  neg_num = total_num - pos_num\n",
        "  pos_portion = pos_num/total_num\n",
        "  neg_portion = neg_num/total_num\n",
        "  print(f'total seq in the set: {total_num}')\n",
        "  print(f'proportion over full dataset: {total_num/total_len}')\n",
        "  print(f'pos: {pos_num} %: {pos_portion}')\n",
        "  print(f'neg: {neg_num} %: {neg_portion}')\n",
        "  return total_num, pos_num, neg_num, pos_portion, neg_portion"
      ],
      "metadata": {
        "id": "0MSf147srK0i"
      },
      "execution_count": null,
      "outputs": []
    },
    {
      "cell_type": "code",
      "source": [
        "def identity_above_threshold(m8file, thres):\n",
        "  data = pd.read_csv(m8file, sep=\"\\t\", index_col=False, header=None)\n",
        "  data.columns = [\"query\", \"target\",\"sequence identity\",\"alignment length\",\"mismatch\",\"gap opening\", \"query domain start position\", \"end position\",\"target domain start position\", \"end position\", \"evalue\", \"bit score\"]\n",
        "  \n",
        "  seq_above_thres = data[data[\"sequence identity\"] > thres][\"query\"].unique()\n",
        "  seq_below_thres = data[~data[\"query\"].isin(seq_above_thres)][\"query\"].unique()\n",
        "  # print(data[data[\"sequence identity\"] > thres][\"sequence identity\"].unique())\n",
        "  all_seq = data[\"query\"].unique()\n",
        "  proportion = len(seq_above_thres) / len(all_seq)\n",
        "  print(len(all_seq) == len(seq_above_thres) + len(seq_below_thres))\n",
        "  return seq_above_thres, seq_below_thres, proportion"
      ],
      "metadata": {
        "id": "8ZZTv2W5nqMF"
      },
      "execution_count": null,
      "outputs": []
    },
    {
      "cell_type": "code",
      "source": [
        "def read_fasta(fasta_path, split_char=\"|\", id_field=1):\n",
        "    '''\n",
        "        Reads in fasta file containing multiple sequences.\n",
        "        Split_char and id_field allow to control identifier extraction from header.\n",
        "        E.g.: set split_char=\"|\" and id_field=1 for SwissProt/UniProt Headers.\n",
        "        Returns dictionary holding multiple sequences or only single \n",
        "        sequence, depending on input file.\n",
        "    '''\n",
        "    \n",
        "    seqs = dict()\n",
        "    with open( fasta_path, 'r' ) as fasta_f:\n",
        "        for line in fasta_f:\n",
        "            # get uniprot ID from header and create new entry\n",
        "            if line.startswith('>'):\n",
        "                uniprot_id = line.replace('>', '').strip().split(split_char)[id_field]\n",
        "                # replace tokens that are mis-interpreted when loading h5\n",
        "                uniprot_id = uniprot_id.replace(\"/\",\"_\").replace(\".\",\"_\")\n",
        "                seqs[ uniprot_id ] = ''\n",
        "            else:\n",
        "                # repl. all whie-space chars and join seqs spanning multiple lines, drop gaps and cast to upper-case\n",
        "                seq= ''.join( line.split() ).upper().replace(\"-\",\"\")\n",
        "                # repl. all non-standard AAs and map them to unknown/X\n",
        "                seq = seq.replace('U','X').replace('Z','X').replace('O','X')\n",
        "                seqs[ uniprot_id ] += seq \n",
        "    example_id=next(iter(seqs))\n",
        "    print(\"Read {} sequences.\".format(len(seqs)))\n",
        "    print(\"Example:\\n{}\\n{}\".format(example_id,seqs[example_id]))\n",
        "\n",
        "    return seqs"
      ],
      "metadata": {
        "id": "PpKq0OQOcZpW"
      },
      "execution_count": null,
      "outputs": []
    },
    {
      "cell_type": "code",
      "source": [
        "def dataset_metal_binding_summary(acc_ls, source = 'POS_TRAIN_FULL.tsv' , coalesce = True):\n",
        "  total_num = len(acc_ls)\n",
        "  print(f'total seq in the set: {total_num}, {total_num/total_len*100:.{3}}% of full dataset')\n",
        "  \n",
        "  all_pos_acc_ls, _ = fasta2acc_seq_ls(\"POS_TRAIN_FULL.fasta\")\n",
        "  if coalesce:\n",
        "    metals =  {'CHEBI:29105':0,'CHEBI:18420':1,'CHEBI:49883':2,'CHEBI:29108':3,'CHEBI:29035':4,'CHEBI:60240':5,'CHEBI:24875':6,'CHEBI:190135':7,'CHEBI:23378':8,'CHEBI:29103':9,'CHEBI:49786':10,'CHEBI:29101':11,'CHEBI:29034':12,'CHEBI:30408':13,'CHEBI:29036':14,'CHEBI:29033':15, 'CHEBI:48828':16, 'CHEBI:25213':17, 'CHEBI:21137':13,'CHEBI:49552':8,'CHEBI:48775':5,'CHEBI:21143':13,'CHEBI:47739':13,'CHEBI:16793':5,'CHEBI:177874':13,'CHEBI:60400':13,'CHEBI:49415':17, 'CHEBI:49713':17}\n",
        "  else:\n",
        "    metals = {'CHEBI:29105':0,'CHEBI:18420':1,'CHEBI:49883':2,'CHEBI:29108':3,'CHEBI:29035':4,'CHEBI:60240':5,'CHEBI:24875':6,'CHEBI:190135':7,'CHEBI:23378':8,'CHEBI:29103':9,'CHEBI:49786':10,'CHEBI:29101':11,'CHEBI:29034':12,'CHEBI:30408':13,'CHEBI:29036':14,'CHEBI:29033':15,'CHEBI:21137':16,'CHEBI:49552':17,'CHEBI:48775':18,'CHEBI:48828':19,'CHEBI:21143':20,'CHEBI:25213':21,'CHEBI:47739':22,'CHEBI:16793':23,'CHEBI:177874':24,'CHEBI:60400':25,'CHEBI:49415':26,'CHEBI:60504':27,'CHEBI:49713':28}\n",
        "  anno = pd.read_csv(source, sep='\\t')\n",
        "  metal_count_df = anno['ChEBI-ID'].value_counts().to_frame().reset_index()\n",
        "  metal_count_df.columns = ['ChEBI-ID', 'count']\n",
        "  metal_id_name_df = pd.read_csv('ChEBI-IDs_for_metal_binding.tsv', sep='\\t')\n",
        "  prot_counter = [0]*29 \n",
        "  res_counter = [0]*29\n",
        "  pos_acc = set(all_pos_acc_ls).intersection(acc_ls)\n",
        "  if not total_num == len(pos_acc):\n",
        "    print(f\"#metal-binding protein: {len(pos_acc)} \\n#non-binding protein: {total_num-len(pos_acc)} \\npos/neg: {len(pos_acc)/(total_num-len(pos_acc))}\")\n",
        "  if coalesce:\n",
        "      for i, metal in enumerate(metals):\n",
        "        temp = anno[anno['ChEBI-ID'] == metal]\n",
        "        prot_counter[metals[metal]] += len(temp[temp['Accession'].isin(pos_acc)]['Accession'].unique())\n",
        "        res_counter[metals[metal]] += check_metal_num(acc_ls, metal, anno)\n",
        "      i = 0\n",
        "      for metal in list(metals.keys())[:18]:\n",
        "        metal_name = metal_id_name_df[metal_id_name_df['ChEBI-ID']==metal]['Name'].iloc[0]\n",
        "        print(f\"{metal:13}|{metal_name:30}|#p: {prot_counter[i]:10}|#residue: {res_counter[i]:6}\")\n",
        "        i+=1\n",
        "      return prot_counter, res_counter\n",
        "        \n",
        "\n",
        "  for i, metal in enumerate(metals):\n",
        "    metal_name = metal_id_name_df[metal_id_name_df['ChEBI-ID']==metal]['Name'].iloc[0]\n",
        "    temp = anno[anno['ChEBI-ID'] == metal]\n",
        "    prot_counter[i] += len(temp[temp['Accession'].isin(pos_acc)]['Accession'].unique())\n",
        "    res_counter[i] += check_metal_num(acc_ls, metal, anno)\n",
        "    total_res_num = np.sum(metal_count_df['count'])\n",
        "    print(f\"{metal:13}|{metal_name:30}|#p: {prot_counter[i]:10}|#residue: {res_counter[i]:6}|% over all binding residues: {res_counter[i]/total_res_num:{5}.{3}}\")\n",
        "  return prot_counter, res_counter, "
      ],
      "metadata": {
        "id": "3Wu3hU0_nPPe"
      },
      "execution_count": null,
      "outputs": []
    },
    {
      "cell_type": "code",
      "source": [
        "def retrive_json(path):\n",
        "  with open(path, 'r') as fp:\n",
        "    data = json.load(fp)\n",
        "  return data"
      ],
      "metadata": {
        "id": "xvH_XWys-KqG"
      },
      "execution_count": null,
      "outputs": []
    },
    {
      "cell_type": "code",
      "source": [
        "def save_json(data, path):\n",
        "  with open(path, 'w') as fp:\n",
        "      json.dump(data, fp)"
      ],
      "metadata": {
        "id": "DJcfq3Wc-Yyj"
      },
      "execution_count": null,
      "outputs": []
    },
    {
      "cell_type": "markdown",
      "source": [
        "# Prepare train set"
      ],
      "metadata": {
        "id": "2SR_cjCfigq-"
      }
    },
    {
      "cell_type": "code",
      "source": [
        "pos_acc, _ = fasta2acc_seq_ls('POS_TRAIN.fasta')"
      ],
      "metadata": {
        "id": "E7sd0-bOoZgC"
      },
      "execution_count": null,
      "outputs": []
    },
    {
      "cell_type": "code",
      "source": [
        "train_acc, train_seq = fasta2acc_seq_ls('/content/data/train_pos.fasta')"
      ],
      "metadata": {
        "id": "QA5_8qibSlwZ"
      },
      "execution_count": null,
      "outputs": []
    },
    {
      "cell_type": "code",
      "source": [
        "train_dc = read_fasta('/content/data/train_pos.fasta')"
      ],
      "metadata": {
        "id": "-b7KMIScirf-",
        "colab": {
          "base_uri": "https://localhost:8080/"
        },
        "outputId": "b5959eea-72b0-4965-e190-20e527b20040"
      },
      "execution_count": null,
      "outputs": [
        {
          "output_type": "stream",
          "name": "stdout",
          "text": [
            "Read 2093 sequences.\n",
            "Example:\n",
            "A0A023GPI8\n",
            "ADTIVAVELDTYPNTDIGDPSYPHIGIDIKSVRSKKTAKWNMQNGKVGTAHIIYNSVGKRLSAVVSYPNGDSATVSYDVDLDNVLPEWVRVGLSATTGLYKETNTILSWSFTSKLKSNSTHETNALHFMFNQFSKDQKDLILQGDATTGRDGNLELTRVSSNGSPQGSSVGRALFYAPVHIWESSAVVASFDATFTFLIKSSDSHPADGIAFFISNIDSSIPSGSTGRLLGLFPDAN\n"
          ]
        }
      ]
    },
    {
      "cell_type": "code",
      "source": [
        "dataset_metal_binding_summary(train_acc)\n",
        "pass"
      ],
      "metadata": {
        "colab": {
          "base_uri": "https://localhost:8080/"
        },
        "id": "M-Cyg22pix4o",
        "outputId": "91f3bd87-12a8-461e-efea-8f9fa7191968"
      },
      "execution_count": null,
      "outputs": [
        {
          "output_type": "stream",
          "name": "stdout",
          "text": [
            "total seq in the set: 2093, 1.07% of full dataset\n",
            "CHEBI:29105  |Zn(2+)                        |#p:        710|#residue:   6457\n",
            "CHEBI:18420  |Mg(2+)                        |#p:        508|#residue:   2423\n",
            "CHEBI:49883  |[4Fe-4S] cluster              |#p:        110|#residue:    934\n",
            "CHEBI:29108  |Ca(2+)                        |#p:        399|#residue:   5169\n",
            "CHEBI:29035  |Mn(2+)                        |#p:        184|#residue:   1191\n",
            "CHEBI:60240  |a divalent metal cation       |#p:         83|#residue:    810\n",
            "CHEBI:24875  |Fe cation                     |#p:        163|#residue:   1048\n",
            "CHEBI:190135 |[2Fe-2S] cluster              |#p:         53|#residue:    381\n",
            "CHEBI:23378  |Cu cation                     |#p:         82|#residue:    614\n",
            "CHEBI:29103  |K(+)                          |#p:         22|#residue:    167\n",
            "CHEBI:49786  |Ni(2+)                        |#p:         15|#residue:     93\n",
            "CHEBI:29101  |Na(+)                         |#p:         20|#residue:    152\n",
            "CHEBI:29034  |Fe(3+)                        |#p:         16|#residue:    176\n",
            "CHEBI:30408  |iron-sulfur cluster           |#p:          8|#residue:     53\n",
            "CHEBI:29036  |Cu(2+)                        |#p:          7|#residue:     42\n",
            "CHEBI:29033  |Fe(2+)                        |#p:          5|#residue:     26\n",
            "CHEBI:48828  |Co(2+)                        |#p:         10|#residue:     43\n",
            "CHEBI:25213  |a metal cation                |#p:          1|#residue:      2\n"
          ]
        }
      ]
    },
    {
      "cell_type": "code",
      "source": [
        "test_acc, test_seq = fasta2acc_seq_ls('/content/data/test.fasta')"
      ],
      "metadata": {
        "id": "O12AAKgDyVip"
      },
      "execution_count": null,
      "outputs": []
    },
    {
      "cell_type": "code",
      "source": [
        "test_dc = read_fasta('/content/data/test.fasta')"
      ],
      "metadata": {
        "colab": {
          "base_uri": "https://localhost:8080/"
        },
        "id": "E2c38OyUyWEi",
        "outputId": "693ebd4d-719b-4b42-e8cf-da29749fe37b"
      },
      "execution_count": null,
      "outputs": [
        {
          "output_type": "stream",
          "name": "stdout",
          "text": [
            "Read 3911 sequences.\n",
            "Example:\n",
            "A0A0H3KB22\n",
            "MTYAVKEIFYTLQGEGANAGRPAVFCRFAGCNLWSGREEDRAQAVCRFCDTDFVGTDGENGGKFKDADALVATIAGLWPAGEAHRFVVCTGGEPMLQLDQPLVDALHAAGFGIAIETNGSLPVLESIDWICVSPKADAPLVVTKGNELKVVIPQDNQRLADYAKLDFEYFLVQPMDGPSRDLNTKLAIDWCKRHPQWRLSMQTHKYLNIP\n"
          ]
        }
      ]
    },
    {
      "cell_type": "code",
      "source": [
        "dataset_metal_binding_summary(test_acc)\n",
        "pass"
      ],
      "metadata": {
        "colab": {
          "base_uri": "https://localhost:8080/"
        },
        "id": "INX6J6BRyXeM",
        "outputId": "d3f79616-0dff-41f5-e1fa-ca10b993107b"
      },
      "execution_count": null,
      "outputs": [
        {
          "output_type": "stream",
          "name": "stdout",
          "text": [
            "total seq in the set: 3911, 2.0% of full dataset\n",
            "#metal-binding protein: 224 \n",
            "#non-binding protein: 3687 \n",
            "pos/neg: 0.06075400054244643\n",
            "CHEBI:29105  |Zn(2+)                        |#p:         95|#residue:    700\n",
            "CHEBI:18420  |Mg(2+)                        |#p:         58|#residue:    263\n",
            "CHEBI:49883  |[4Fe-4S] cluster              |#p:         11|#residue:    101\n",
            "CHEBI:29108  |Ca(2+)                        |#p:         26|#residue:    560\n",
            "CHEBI:29035  |Mn(2+)                        |#p:         25|#residue:    131\n",
            "CHEBI:60240  |a divalent metal cation       |#p:         10|#residue:    107\n",
            "CHEBI:24875  |Fe cation                     |#p:         12|#residue:     93\n",
            "CHEBI:190135 |[2Fe-2S] cluster              |#p:          4|#residue:     46\n",
            "CHEBI:23378  |Cu cation                     |#p:         10|#residue:     53\n",
            "CHEBI:29103  |K(+)                          |#p:          3|#residue:     18\n",
            "CHEBI:49786  |Ni(2+)                        |#p:          1|#residue:      4\n",
            "CHEBI:29101  |Na(+)                         |#p:          2|#residue:     11\n",
            "CHEBI:29034  |Fe(3+)                        |#p:          1|#residue:      8\n",
            "CHEBI:30408  |iron-sulfur cluster           |#p:          2|#residue:     12\n",
            "CHEBI:29036  |Cu(2+)                        |#p:          1|#residue:      8\n",
            "CHEBI:29033  |Fe(2+)                        |#p:          2|#residue:      3\n",
            "CHEBI:48828  |Co(2+)                        |#p:          2|#residue:     10\n",
            "CHEBI:25213  |a metal cation                |#p:          1|#residue:      4\n"
          ]
        }
      ]
    },
    {
      "cell_type": "markdown",
      "source": [
        "# Generate encodings"
      ],
      "metadata": {
        "id": "mRCS4BVy9kZ7"
      }
    },
    {
      "cell_type": "code",
      "source": [
        "metal_id_name_df = pd.read_csv('ChEBI-IDs_for_metal_binding.tsv', sep='\\t')\n",
        "metal_id_name_df"
      ],
      "metadata": {
        "colab": {
          "base_uri": "https://localhost:8080/"
        },
        "id": "Mb2p3BEedLO5",
        "outputId": "b5e31d7a-38d7-44a3-e6ce-68112ba29b33"
      },
      "execution_count": null,
      "outputs": [
        {
          "output_type": "execute_result",
          "data": {
            "text/plain": [
              "        ChEBI-ID                           Name  \\\n",
              "0    CHEBI:48775                         Cd(2+)   \n",
              "1    CHEBI:29108                         Ca(2+)   \n",
              "2    CHEBI:48828                         Co(2+)   \n",
              "3    CHEBI:49415                         Co(3+)   \n",
              "4    CHEBI:23378                      Cu cation   \n",
              "5    CHEBI:49552                          Cu(+)   \n",
              "6    CHEBI:29036                         Cu(2+)   \n",
              "7    CHEBI:60240        a divalent metal cation   \n",
              "8   CHEBI:190135               [2Fe-2S] cluster   \n",
              "9    CHEBI:24875                      Fe cation   \n",
              "10   CHEBI:29033                         Fe(2+)   \n",
              "11   CHEBI:29034                         Fe(3+)   \n",
              "12   CHEBI:30408            iron-sulfur cluster   \n",
              "13   CHEBI:49713                          Li(+)   \n",
              "14   CHEBI:18420                         Mg(2+)   \n",
              "15   CHEBI:29035                         Mn(2+)   \n",
              "16   CHEBI:16793                         Hg(2+)   \n",
              "17   CHEBI:49786                         Ni(2+)   \n",
              "18   CHEBI:60400              [Ni-Fe-S] cluster   \n",
              "19   CHEBI:47739            [Ni-4Fe-4S] cluster   \n",
              "20   CHEBI:29103                           K(+)   \n",
              "21   CHEBI:29101                          Na(+)   \n",
              "22   CHEBI:49883               [4Fe-4S] cluster   \n",
              "23   CHEBI:21137               [3Fe-4S] cluster   \n",
              "24   CHEBI:29105                         Zn(2+)   \n",
              "25  CHEBI:177874            [Ni-4Fe-5S] cluster   \n",
              "26   CHEBI:21143               [8Fe-7S] cluster   \n",
              "27   CHEBI:60504  [8Fe-9S-C-homocitryl] cluster   \n",
              "28   CHEBI:25213                 a metal cation   \n",
              "\n",
              "                       ChEBI-ID Parents  \n",
              "0               CHEBI:60240,CHEBI:25213  \n",
              "1               CHEBI:60240,CHEBI:25213  \n",
              "2               CHEBI:60240,CHEBI:25213  \n",
              "3                           CHEBI:25213  \n",
              "4                           CHEBI:25213  \n",
              "5               CHEBI:23378,CHEBI:25213  \n",
              "6   CHEBI:23378,CHEBI:60240,CHEBI:25213  \n",
              "7                           CHEBI:25213  \n",
              "8                           CHEBI:30408  \n",
              "9                           CHEBI:25213  \n",
              "10  CHEBI:24875,CHEBI:60240,CHEBI:25213  \n",
              "11              CHEBI:24875,CHEBI:25213  \n",
              "12                                  NaN  \n",
              "13                          CHEBI:25213  \n",
              "14              CHEBI:60240,CHEBI:25213  \n",
              "15              CHEBI:60240,CHEBI:25213  \n",
              "16              CHEBI:60240,CHEBI:25213  \n",
              "17              CHEBI:60240,CHEBI:25213  \n",
              "18                          CHEBI:30408  \n",
              "19              CHEBI:60400,CHEBI:30408  \n",
              "20                          CHEBI:25213  \n",
              "21                          CHEBI:25213  \n",
              "22                          CHEBI:30408  \n",
              "23                          CHEBI:30408  \n",
              "24              CHEBI:60240,CHEBI:25213  \n",
              "25              CHEBI:60400,CHEBI:30408  \n",
              "26                          CHEBI:30408  \n",
              "27                          CHEBI:30408  \n",
              "28                                  NaN  "
            ],
            "text/html": [
              "\n",
              "  <div id=\"df-e3a8f788-720b-48b7-9dbc-af0b9aa64545\">\n",
              "    <div class=\"colab-df-container\">\n",
              "      <div>\n",
              "<style scoped>\n",
              "    .dataframe tbody tr th:only-of-type {\n",
              "        vertical-align: middle;\n",
              "    }\n",
              "\n",
              "    .dataframe tbody tr th {\n",
              "        vertical-align: top;\n",
              "    }\n",
              "\n",
              "    .dataframe thead th {\n",
              "        text-align: right;\n",
              "    }\n",
              "</style>\n",
              "<table border=\"1\" class=\"dataframe\">\n",
              "  <thead>\n",
              "    <tr style=\"text-align: right;\">\n",
              "      <th></th>\n",
              "      <th>ChEBI-ID</th>\n",
              "      <th>Name</th>\n",
              "      <th>ChEBI-ID Parents</th>\n",
              "    </tr>\n",
              "  </thead>\n",
              "  <tbody>\n",
              "    <tr>\n",
              "      <th>0</th>\n",
              "      <td>CHEBI:48775</td>\n",
              "      <td>Cd(2+)</td>\n",
              "      <td>CHEBI:60240,CHEBI:25213</td>\n",
              "    </tr>\n",
              "    <tr>\n",
              "      <th>1</th>\n",
              "      <td>CHEBI:29108</td>\n",
              "      <td>Ca(2+)</td>\n",
              "      <td>CHEBI:60240,CHEBI:25213</td>\n",
              "    </tr>\n",
              "    <tr>\n",
              "      <th>2</th>\n",
              "      <td>CHEBI:48828</td>\n",
              "      <td>Co(2+)</td>\n",
              "      <td>CHEBI:60240,CHEBI:25213</td>\n",
              "    </tr>\n",
              "    <tr>\n",
              "      <th>3</th>\n",
              "      <td>CHEBI:49415</td>\n",
              "      <td>Co(3+)</td>\n",
              "      <td>CHEBI:25213</td>\n",
              "    </tr>\n",
              "    <tr>\n",
              "      <th>4</th>\n",
              "      <td>CHEBI:23378</td>\n",
              "      <td>Cu cation</td>\n",
              "      <td>CHEBI:25213</td>\n",
              "    </tr>\n",
              "    <tr>\n",
              "      <th>5</th>\n",
              "      <td>CHEBI:49552</td>\n",
              "      <td>Cu(+)</td>\n",
              "      <td>CHEBI:23378,CHEBI:25213</td>\n",
              "    </tr>\n",
              "    <tr>\n",
              "      <th>6</th>\n",
              "      <td>CHEBI:29036</td>\n",
              "      <td>Cu(2+)</td>\n",
              "      <td>CHEBI:23378,CHEBI:60240,CHEBI:25213</td>\n",
              "    </tr>\n",
              "    <tr>\n",
              "      <th>7</th>\n",
              "      <td>CHEBI:60240</td>\n",
              "      <td>a divalent metal cation</td>\n",
              "      <td>CHEBI:25213</td>\n",
              "    </tr>\n",
              "    <tr>\n",
              "      <th>8</th>\n",
              "      <td>CHEBI:190135</td>\n",
              "      <td>[2Fe-2S] cluster</td>\n",
              "      <td>CHEBI:30408</td>\n",
              "    </tr>\n",
              "    <tr>\n",
              "      <th>9</th>\n",
              "      <td>CHEBI:24875</td>\n",
              "      <td>Fe cation</td>\n",
              "      <td>CHEBI:25213</td>\n",
              "    </tr>\n",
              "    <tr>\n",
              "      <th>10</th>\n",
              "      <td>CHEBI:29033</td>\n",
              "      <td>Fe(2+)</td>\n",
              "      <td>CHEBI:24875,CHEBI:60240,CHEBI:25213</td>\n",
              "    </tr>\n",
              "    <tr>\n",
              "      <th>11</th>\n",
              "      <td>CHEBI:29034</td>\n",
              "      <td>Fe(3+)</td>\n",
              "      <td>CHEBI:24875,CHEBI:25213</td>\n",
              "    </tr>\n",
              "    <tr>\n",
              "      <th>12</th>\n",
              "      <td>CHEBI:30408</td>\n",
              "      <td>iron-sulfur cluster</td>\n",
              "      <td>NaN</td>\n",
              "    </tr>\n",
              "    <tr>\n",
              "      <th>13</th>\n",
              "      <td>CHEBI:49713</td>\n",
              "      <td>Li(+)</td>\n",
              "      <td>CHEBI:25213</td>\n",
              "    </tr>\n",
              "    <tr>\n",
              "      <th>14</th>\n",
              "      <td>CHEBI:18420</td>\n",
              "      <td>Mg(2+)</td>\n",
              "      <td>CHEBI:60240,CHEBI:25213</td>\n",
              "    </tr>\n",
              "    <tr>\n",
              "      <th>15</th>\n",
              "      <td>CHEBI:29035</td>\n",
              "      <td>Mn(2+)</td>\n",
              "      <td>CHEBI:60240,CHEBI:25213</td>\n",
              "    </tr>\n",
              "    <tr>\n",
              "      <th>16</th>\n",
              "      <td>CHEBI:16793</td>\n",
              "      <td>Hg(2+)</td>\n",
              "      <td>CHEBI:60240,CHEBI:25213</td>\n",
              "    </tr>\n",
              "    <tr>\n",
              "      <th>17</th>\n",
              "      <td>CHEBI:49786</td>\n",
              "      <td>Ni(2+)</td>\n",
              "      <td>CHEBI:60240,CHEBI:25213</td>\n",
              "    </tr>\n",
              "    <tr>\n",
              "      <th>18</th>\n",
              "      <td>CHEBI:60400</td>\n",
              "      <td>[Ni-Fe-S] cluster</td>\n",
              "      <td>CHEBI:30408</td>\n",
              "    </tr>\n",
              "    <tr>\n",
              "      <th>19</th>\n",
              "      <td>CHEBI:47739</td>\n",
              "      <td>[Ni-4Fe-4S] cluster</td>\n",
              "      <td>CHEBI:60400,CHEBI:30408</td>\n",
              "    </tr>\n",
              "    <tr>\n",
              "      <th>20</th>\n",
              "      <td>CHEBI:29103</td>\n",
              "      <td>K(+)</td>\n",
              "      <td>CHEBI:25213</td>\n",
              "    </tr>\n",
              "    <tr>\n",
              "      <th>21</th>\n",
              "      <td>CHEBI:29101</td>\n",
              "      <td>Na(+)</td>\n",
              "      <td>CHEBI:25213</td>\n",
              "    </tr>\n",
              "    <tr>\n",
              "      <th>22</th>\n",
              "      <td>CHEBI:49883</td>\n",
              "      <td>[4Fe-4S] cluster</td>\n",
              "      <td>CHEBI:30408</td>\n",
              "    </tr>\n",
              "    <tr>\n",
              "      <th>23</th>\n",
              "      <td>CHEBI:21137</td>\n",
              "      <td>[3Fe-4S] cluster</td>\n",
              "      <td>CHEBI:30408</td>\n",
              "    </tr>\n",
              "    <tr>\n",
              "      <th>24</th>\n",
              "      <td>CHEBI:29105</td>\n",
              "      <td>Zn(2+)</td>\n",
              "      <td>CHEBI:60240,CHEBI:25213</td>\n",
              "    </tr>\n",
              "    <tr>\n",
              "      <th>25</th>\n",
              "      <td>CHEBI:177874</td>\n",
              "      <td>[Ni-4Fe-5S] cluster</td>\n",
              "      <td>CHEBI:60400,CHEBI:30408</td>\n",
              "    </tr>\n",
              "    <tr>\n",
              "      <th>26</th>\n",
              "      <td>CHEBI:21143</td>\n",
              "      <td>[8Fe-7S] cluster</td>\n",
              "      <td>CHEBI:30408</td>\n",
              "    </tr>\n",
              "    <tr>\n",
              "      <th>27</th>\n",
              "      <td>CHEBI:60504</td>\n",
              "      <td>[8Fe-9S-C-homocitryl] cluster</td>\n",
              "      <td>CHEBI:30408</td>\n",
              "    </tr>\n",
              "    <tr>\n",
              "      <th>28</th>\n",
              "      <td>CHEBI:25213</td>\n",
              "      <td>a metal cation</td>\n",
              "      <td>NaN</td>\n",
              "    </tr>\n",
              "  </tbody>\n",
              "</table>\n",
              "</div>\n",
              "      <button class=\"colab-df-convert\" onclick=\"convertToInteractive('df-e3a8f788-720b-48b7-9dbc-af0b9aa64545')\"\n",
              "              title=\"Convert this dataframe to an interactive table.\"\n",
              "              style=\"display:none;\">\n",
              "        \n",
              "  <svg xmlns=\"http://www.w3.org/2000/svg\" height=\"24px\"viewBox=\"0 0 24 24\"\n",
              "       width=\"24px\">\n",
              "    <path d=\"M0 0h24v24H0V0z\" fill=\"none\"/>\n",
              "    <path d=\"M18.56 5.44l.94 2.06.94-2.06 2.06-.94-2.06-.94-.94-2.06-.94 2.06-2.06.94zm-11 1L8.5 8.5l.94-2.06 2.06-.94-2.06-.94L8.5 2.5l-.94 2.06-2.06.94zm10 10l.94 2.06.94-2.06 2.06-.94-2.06-.94-.94-2.06-.94 2.06-2.06.94z\"/><path d=\"M17.41 7.96l-1.37-1.37c-.4-.4-.92-.59-1.43-.59-.52 0-1.04.2-1.43.59L10.3 9.45l-7.72 7.72c-.78.78-.78 2.05 0 2.83L4 21.41c.39.39.9.59 1.41.59.51 0 1.02-.2 1.41-.59l7.78-7.78 2.81-2.81c.8-.78.8-2.07 0-2.86zM5.41 20L4 18.59l7.72-7.72 1.47 1.35L5.41 20z\"/>\n",
              "  </svg>\n",
              "      </button>\n",
              "      \n",
              "  <style>\n",
              "    .colab-df-container {\n",
              "      display:flex;\n",
              "      flex-wrap:wrap;\n",
              "      gap: 12px;\n",
              "    }\n",
              "\n",
              "    .colab-df-convert {\n",
              "      background-color: #E8F0FE;\n",
              "      border: none;\n",
              "      border-radius: 50%;\n",
              "      cursor: pointer;\n",
              "      display: none;\n",
              "      fill: #1967D2;\n",
              "      height: 32px;\n",
              "      padding: 0 0 0 0;\n",
              "      width: 32px;\n",
              "    }\n",
              "\n",
              "    .colab-df-convert:hover {\n",
              "      background-color: #E2EBFA;\n",
              "      box-shadow: 0px 1px 2px rgba(60, 64, 67, 0.3), 0px 1px 3px 1px rgba(60, 64, 67, 0.15);\n",
              "      fill: #174EA6;\n",
              "    }\n",
              "\n",
              "    [theme=dark] .colab-df-convert {\n",
              "      background-color: #3B4455;\n",
              "      fill: #D2E3FC;\n",
              "    }\n",
              "\n",
              "    [theme=dark] .colab-df-convert:hover {\n",
              "      background-color: #434B5C;\n",
              "      box-shadow: 0px 1px 3px 1px rgba(0, 0, 0, 0.15);\n",
              "      filter: drop-shadow(0px 1px 2px rgba(0, 0, 0, 0.3));\n",
              "      fill: #FFFFFF;\n",
              "    }\n",
              "  </style>\n",
              "\n",
              "      <script>\n",
              "        const buttonEl =\n",
              "          document.querySelector('#df-e3a8f788-720b-48b7-9dbc-af0b9aa64545 button.colab-df-convert');\n",
              "        buttonEl.style.display =\n",
              "          google.colab.kernel.accessAllowed ? 'block' : 'none';\n",
              "\n",
              "        async function convertToInteractive(key) {\n",
              "          const element = document.querySelector('#df-e3a8f788-720b-48b7-9dbc-af0b9aa64545');\n",
              "          const dataTable =\n",
              "            await google.colab.kernel.invokeFunction('convertToInteractive',\n",
              "                                                     [key], {});\n",
              "          if (!dataTable) return;\n",
              "\n",
              "          const docLinkHtml = 'Like what you see? Visit the ' +\n",
              "            '<a target=\"_blank\" href=https://colab.research.google.com/notebooks/data_table.ipynb>data table notebook</a>'\n",
              "            + ' to learn more about interactive tables.';\n",
              "          element.innerHTML = '';\n",
              "          dataTable['output_type'] = 'display_data';\n",
              "          await google.colab.output.renderOutput(dataTable, element);\n",
              "          const docLink = document.createElement('div');\n",
              "          docLink.innerHTML = docLinkHtml;\n",
              "          element.appendChild(docLink);\n",
              "        }\n",
              "      </script>\n",
              "    </div>\n",
              "  </div>\n",
              "  "
            ]
          },
          "metadata": {},
          "execution_count": 29
        }
      ]
    },
    {
      "cell_type": "code",
      "source": [
        "metal_encode = {'CHEBI:29105':0,'CHEBI:18420':1,'CHEBI:49883':2,'CHEBI:29108':3,'CHEBI:29035':4,'CHEBI:60240':5,'CHEBI:24875':6,'CHEBI:190135':7,'CHEBI:23378':8,'CHEBI:29103':9,'CHEBI:49786':10,'CHEBI:29101':11,'CHEBI:29034':12,'CHEBI:30408':13,'CHEBI:29036':14,'CHEBI:29033':15, 'CHEBI:48828':16, 'CHEBI:25213':17, 'CHEBI:21137':13,'CHEBI:49552':8,'CHEBI:48775':5,'CHEBI:21143':13,'CHEBI:47739':13,'CHEBI:16793':5,'CHEBI:177874':13,'CHEBI:60400':13,'CHEBI:49415':17, 'CHEBI:49713':17}"
      ],
      "metadata": {
        "id": "XWe61MaoIxoB"
      },
      "execution_count": null,
      "outputs": []
    },
    {
      "cell_type": "code",
      "source": [
        "i = 0\n",
        "for m in metal_encode.keys():\n",
        "  temp1 = metal_id_name_df[metal_id_name_df['ChEBI-ID']==m]\n",
        "  print(i, temp1['ChEBI-ID'].iloc[0], temp1['Name'].iloc[0], temp1['ChEBI-ID Parents'].iloc[0])\n",
        "\n",
        "\n",
        "  i+=1"
      ],
      "metadata": {
        "colab": {
          "base_uri": "https://localhost:8080/"
        },
        "id": "-t61mGWm5AcB",
        "outputId": "9ab845b5-cd51-4129-bb8e-e4e1019862f3"
      },
      "execution_count": null,
      "outputs": [
        {
          "output_type": "stream",
          "name": "stdout",
          "text": [
            "0 CHEBI:29105 Zn(2+) CHEBI:60240,CHEBI:25213\n",
            "1 CHEBI:18420 Mg(2+) CHEBI:60240,CHEBI:25213\n",
            "2 CHEBI:49883 [4Fe-4S] cluster CHEBI:30408\n",
            "3 CHEBI:29108 Ca(2+) CHEBI:60240,CHEBI:25213\n",
            "4 CHEBI:29035 Mn(2+) CHEBI:60240,CHEBI:25213\n",
            "5 CHEBI:60240 a divalent metal cation CHEBI:25213\n",
            "6 CHEBI:24875 Fe cation CHEBI:25213\n",
            "7 CHEBI:190135 [2Fe-2S] cluster CHEBI:30408\n",
            "8 CHEBI:23378 Cu cation CHEBI:25213\n",
            "9 CHEBI:29103 K(+) CHEBI:25213\n",
            "10 CHEBI:49786 Ni(2+) CHEBI:60240,CHEBI:25213\n",
            "11 CHEBI:29101 Na(+) CHEBI:25213\n",
            "12 CHEBI:29034 Fe(3+) CHEBI:24875,CHEBI:25213\n",
            "13 CHEBI:30408 iron-sulfur cluster nan\n",
            "14 CHEBI:29036 Cu(2+) CHEBI:23378,CHEBI:60240,CHEBI:25213\n",
            "15 CHEBI:29033 Fe(2+) CHEBI:24875,CHEBI:60240,CHEBI:25213\n",
            "16 CHEBI:48828 Co(2+) CHEBI:60240,CHEBI:25213\n",
            "17 CHEBI:25213 a metal cation nan\n",
            "18 CHEBI:21137 [3Fe-4S] cluster CHEBI:30408\n",
            "19 CHEBI:49552 Cu(+) CHEBI:23378,CHEBI:25213\n",
            "20 CHEBI:48775 Cd(2+) CHEBI:60240,CHEBI:25213\n",
            "21 CHEBI:21143 [8Fe-7S] cluster CHEBI:30408\n",
            "22 CHEBI:47739 [Ni-4Fe-4S] cluster CHEBI:60400,CHEBI:30408\n",
            "23 CHEBI:16793 Hg(2+) CHEBI:60240,CHEBI:25213\n",
            "24 CHEBI:177874 [Ni-4Fe-5S] cluster CHEBI:60400,CHEBI:30408\n",
            "25 CHEBI:60400 [Ni-Fe-S] cluster CHEBI:30408\n",
            "26 CHEBI:49415 Co(3+) CHEBI:25213\n",
            "27 CHEBI:49713 Li(+) CHEBI:25213\n"
          ]
        }
      ]
    },
    {
      "cell_type": "code",
      "source": [
        "coalesced_encode = {}\n",
        "\n",
        "for metal in metal_encode.keys():\n",
        "  ls = []\n",
        "  parents = metal_id_name_df[metal_id_name_df['ChEBI-ID'] == metal]['ChEBI-ID Parents'].iloc[0]\n",
        "  ls.append(metal_encode[metal])\n",
        "  if not pd.isna(parents):\n",
        "    ls.extend([metal_encode[i] for i in parents.split(',')])\n",
        "  coalesced_encode[metal] = list(set(ls))"
      ],
      "metadata": {
        "id": "hzug26kTeqm2"
      },
      "execution_count": null,
      "outputs": []
    },
    {
      "cell_type": "code",
      "source": [
        "coalesced_encode"
      ],
      "metadata": {
        "colab": {
          "base_uri": "https://localhost:8080/"
        },
        "id": "GjqyK0FM6biN",
        "outputId": "e5866802-82f0-465a-b32d-1d72238b647a"
      },
      "execution_count": null,
      "outputs": [
        {
          "output_type": "execute_result",
          "data": {
            "text/plain": [
              "{'CHEBI:29105': [0, 17, 5],\n",
              " 'CHEBI:18420': [1, 5, 17],\n",
              " 'CHEBI:49883': [2, 13],\n",
              " 'CHEBI:29108': [17, 3, 5],\n",
              " 'CHEBI:29035': [17, 4, 5],\n",
              " 'CHEBI:60240': [17, 5],\n",
              " 'CHEBI:24875': [17, 6],\n",
              " 'CHEBI:190135': [13, 7],\n",
              " 'CHEBI:23378': [8, 17],\n",
              " 'CHEBI:29103': [9, 17],\n",
              " 'CHEBI:49786': [17, 10, 5],\n",
              " 'CHEBI:29101': [17, 11],\n",
              " 'CHEBI:29034': [17, 12, 6],\n",
              " 'CHEBI:30408': [13],\n",
              " 'CHEBI:29036': [8, 17, 5, 14],\n",
              " 'CHEBI:29033': [17, 5, 6, 15],\n",
              " 'CHEBI:48828': [16, 17, 5],\n",
              " 'CHEBI:25213': [17],\n",
              " 'CHEBI:21137': [13],\n",
              " 'CHEBI:49552': [8, 17],\n",
              " 'CHEBI:48775': [17, 5],\n",
              " 'CHEBI:21143': [13],\n",
              " 'CHEBI:47739': [13],\n",
              " 'CHEBI:16793': [17, 5],\n",
              " 'CHEBI:177874': [13],\n",
              " 'CHEBI:60400': [13],\n",
              " 'CHEBI:49415': [17],\n",
              " 'CHEBI:49713': [17]}"
            ]
          },
          "metadata": {},
          "execution_count": 33
        }
      ]
    },
    {
      "cell_type": "code",
      "source": [
        "cnt = 0\n",
        "class_encode = {}\n",
        "for i in coalesced_encode:\n",
        "  metal_name = metal_id_name_df[metal_id_name_df[\"ChEBI-ID\"] == i]['Name'].iloc[0]\n",
        "  enc_ls = coalesced_encode[i]\n",
        "  if cnt <= 17:\n",
        "    class_encode[cnt] = (i, metal_name)\n",
        "  print(f\"{cnt:2}|{i:13}|{metal_name:25} {enc_ls}\")\n",
        "  cnt += 1"
      ],
      "metadata": {
        "colab": {
          "base_uri": "https://localhost:8080/"
        },
        "id": "beeckf_G-7o1",
        "outputId": "2a9ca6a2-12e7-4bf9-835c-d12305e550ea"
      },
      "execution_count": null,
      "outputs": [
        {
          "output_type": "stream",
          "name": "stdout",
          "text": [
            " 0|CHEBI:29105  |Zn(2+)                    [0, 17, 5]\n",
            " 1|CHEBI:18420  |Mg(2+)                    [1, 5, 17]\n",
            " 2|CHEBI:49883  |[4Fe-4S] cluster          [2, 13]\n",
            " 3|CHEBI:29108  |Ca(2+)                    [17, 3, 5]\n",
            " 4|CHEBI:29035  |Mn(2+)                    [17, 4, 5]\n",
            " 5|CHEBI:60240  |a divalent metal cation   [17, 5]\n",
            " 6|CHEBI:24875  |Fe cation                 [17, 6]\n",
            " 7|CHEBI:190135 |[2Fe-2S] cluster          [13, 7]\n",
            " 8|CHEBI:23378  |Cu cation                 [8, 17]\n",
            " 9|CHEBI:29103  |K(+)                      [9, 17]\n",
            "10|CHEBI:49786  |Ni(2+)                    [17, 10, 5]\n",
            "11|CHEBI:29101  |Na(+)                     [17, 11]\n",
            "12|CHEBI:29034  |Fe(3+)                    [17, 12, 6]\n",
            "13|CHEBI:30408  |iron-sulfur cluster       [13]\n",
            "14|CHEBI:29036  |Cu(2+)                    [8, 17, 5, 14]\n",
            "15|CHEBI:29033  |Fe(2+)                    [17, 5, 6, 15]\n",
            "16|CHEBI:48828  |Co(2+)                    [16, 17, 5]\n",
            "17|CHEBI:25213  |a metal cation            [17]\n",
            "18|CHEBI:21137  |[3Fe-4S] cluster          [13]\n",
            "19|CHEBI:49552  |Cu(+)                     [8, 17]\n",
            "20|CHEBI:48775  |Cd(2+)                    [17, 5]\n",
            "21|CHEBI:21143  |[8Fe-7S] cluster          [13]\n",
            "22|CHEBI:47739  |[Ni-4Fe-4S] cluster       [13]\n",
            "23|CHEBI:16793  |Hg(2+)                    [17, 5]\n",
            "24|CHEBI:177874 |[Ni-4Fe-5S] cluster       [13]\n",
            "25|CHEBI:60400  |[Ni-Fe-S] cluster         [13]\n",
            "26|CHEBI:49415  |Co(3+)                    [17]\n",
            "27|CHEBI:49713  |Li(+)                     [17]\n"
          ]
        }
      ]
    },
    {
      "cell_type": "code",
      "source": [
        "class_encode"
      ],
      "metadata": {
        "colab": {
          "base_uri": "https://localhost:8080/"
        },
        "id": "gK3zjme6DvvW",
        "outputId": "4b4c1612-9368-4932-96c9-38687efda3d1"
      },
      "execution_count": null,
      "outputs": [
        {
          "output_type": "execute_result",
          "data": {
            "text/plain": [
              "{0: ('CHEBI:29105', 'Zn(2+)'),\n",
              " 1: ('CHEBI:18420', 'Mg(2+)'),\n",
              " 2: ('CHEBI:49883', '[4Fe-4S] cluster'),\n",
              " 3: ('CHEBI:29108', 'Ca(2+)'),\n",
              " 4: ('CHEBI:29035', 'Mn(2+)'),\n",
              " 5: ('CHEBI:60240', 'a divalent metal cation'),\n",
              " 6: ('CHEBI:24875', 'Fe cation'),\n",
              " 7: ('CHEBI:190135', '[2Fe-2S] cluster'),\n",
              " 8: ('CHEBI:23378', 'Cu cation'),\n",
              " 9: ('CHEBI:29103', 'K(+)'),\n",
              " 10: ('CHEBI:49786', 'Ni(2+)'),\n",
              " 11: ('CHEBI:29101', 'Na(+)'),\n",
              " 12: ('CHEBI:29034', 'Fe(3+)'),\n",
              " 13: ('CHEBI:30408', 'iron-sulfur cluster'),\n",
              " 14: ('CHEBI:29036', 'Cu(2+)'),\n",
              " 15: ('CHEBI:29033', 'Fe(2+)'),\n",
              " 16: ('CHEBI:48828', 'Co(2+)'),\n",
              " 17: ('CHEBI:25213', 'a metal cation')}"
            ]
          },
          "metadata": {},
          "execution_count": 35
        }
      ]
    },
    {
      "cell_type": "code",
      "source": [
        "# with open('coalesced_encode.json', 'w') as fp:\n",
        "#     json.dump(coalesced_encode, fp)\n",
        "\n",
        "# with open('class_encode.json', 'w') as fp:\n",
        "#     json.dump(class_encode, fp)"
      ],
      "metadata": {
        "id": "FTSldeAcqm9g"
      },
      "execution_count": null,
      "outputs": []
    },
    {
      "cell_type": "markdown",
      "source": [
        "# Retrive encodings"
      ],
      "metadata": {
        "id": "WeeZOFv8Qxm5"
      }
    },
    {
      "cell_type": "code",
      "source": [
        "coalesced_encode = retrive_json('coalesced_encode.json')"
      ],
      "metadata": {
        "id": "KvEovm3UQyyQ"
      },
      "execution_count": null,
      "outputs": []
    },
    {
      "cell_type": "code",
      "source": [
        "coalesced_encode"
      ],
      "metadata": {
        "colab": {
          "base_uri": "https://localhost:8080/"
        },
        "id": "LjB8dKaPRsbW",
        "outputId": "843e2d9a-8218-481e-c9d1-84ee4410a5e4"
      },
      "execution_count": null,
      "outputs": [
        {
          "output_type": "execute_result",
          "data": {
            "text/plain": [
              "{'CHEBI:29105': [0, 17, 5],\n",
              " 'CHEBI:18420': [1, 5, 17],\n",
              " 'CHEBI:49883': [2, 13],\n",
              " 'CHEBI:29108': [17, 3, 5],\n",
              " 'CHEBI:29035': [17, 4, 5],\n",
              " 'CHEBI:60240': [17, 5],\n",
              " 'CHEBI:24875': [17, 6],\n",
              " 'CHEBI:190135': [13, 7],\n",
              " 'CHEBI:23378': [8, 17],\n",
              " 'CHEBI:29103': [9, 17],\n",
              " 'CHEBI:49786': [17, 10, 5],\n",
              " 'CHEBI:29101': [17, 11],\n",
              " 'CHEBI:29034': [17, 12, 6],\n",
              " 'CHEBI:30408': [13],\n",
              " 'CHEBI:29036': [8, 17, 5, 14],\n",
              " 'CHEBI:29033': [17, 5, 6, 15],\n",
              " 'CHEBI:48828': [16, 17, 5],\n",
              " 'CHEBI:25213': [17],\n",
              " 'CHEBI:21137': [13],\n",
              " 'CHEBI:49552': [8, 17],\n",
              " 'CHEBI:48775': [17, 5],\n",
              " 'CHEBI:21143': [13],\n",
              " 'CHEBI:47739': [13],\n",
              " 'CHEBI:16793': [17, 5],\n",
              " 'CHEBI:177874': [13],\n",
              " 'CHEBI:60400': [13],\n",
              " 'CHEBI:49415': [17],\n",
              " 'CHEBI:49713': [17]}"
            ]
          },
          "metadata": {},
          "execution_count": 38
        }
      ]
    },
    {
      "cell_type": "code",
      "source": [
        "class_encode_temp = retrive_json('class_encode.json')"
      ],
      "metadata": {
        "id": "-1vscJ7iRVUt"
      },
      "execution_count": null,
      "outputs": []
    },
    {
      "cell_type": "code",
      "source": [
        "class_encode = {}\n",
        "for i, v in class_encode_temp.items():\n",
        "  class_encode[int(i)] = v"
      ],
      "metadata": {
        "id": "rvj631XsRc9E"
      },
      "execution_count": null,
      "outputs": []
    },
    {
      "cell_type": "code",
      "source": [
        "class_encode"
      ],
      "metadata": {
        "colab": {
          "base_uri": "https://localhost:8080/"
        },
        "id": "V53UejVZRuMx",
        "outputId": "3c54041f-a6bc-4d8d-d2fb-ad7ef4636f2b"
      },
      "execution_count": null,
      "outputs": [
        {
          "output_type": "execute_result",
          "data": {
            "text/plain": [
              "{0: ['CHEBI:29105', 'Zn(2+)'],\n",
              " 1: ['CHEBI:18420', 'Mg(2+)'],\n",
              " 2: ['CHEBI:49883', '[4Fe-4S] cluster'],\n",
              " 3: ['CHEBI:29108', 'Ca(2+)'],\n",
              " 4: ['CHEBI:29035', 'Mn(2+)'],\n",
              " 5: ['CHEBI:60240', 'a divalent metal cation'],\n",
              " 6: ['CHEBI:24875', 'Fe cation'],\n",
              " 7: ['CHEBI:190135', '[2Fe-2S] cluster'],\n",
              " 8: ['CHEBI:23378', 'Cu cation'],\n",
              " 9: ['CHEBI:29103', 'K(+)'],\n",
              " 10: ['CHEBI:49786', 'Ni(2+)'],\n",
              " 11: ['CHEBI:29101', 'Na(+)'],\n",
              " 12: ['CHEBI:29034', 'Fe(3+)'],\n",
              " 13: ['CHEBI:30408', 'iron-sulfur cluster'],\n",
              " 14: ['CHEBI:29036', 'Cu(2+)'],\n",
              " 15: ['CHEBI:29033', 'Fe(2+)'],\n",
              " 16: ['CHEBI:48828', 'Co(2+)'],\n",
              " 17: ['CHEBI:25213', 'a metal cation']}"
            ]
          },
          "metadata": {},
          "execution_count": 41
        }
      ]
    },
    {
      "cell_type": "markdown",
      "source": [
        "# Label writing"
      ],
      "metadata": {
        "id": "cqSaZsFsQpWY"
      }
    },
    {
      "cell_type": "code",
      "source": [
        "def retrive_label_from_fasta(fa_file, npz_file = None):\n",
        "  acc_ls, seqs = fasta2acc_seq_ls(fa_file)\n",
        "  acc_dc = read_fasta(fa_file)\n",
        "  pos_acc, _ = fasta2acc_seq_ls('POS_TRAIN.fasta')\n",
        "  anno = pd.read_csv('POS_TRAIN.tsv', sep='\\t')\n",
        "  pos_in_ls = set(pos_acc).intersection(acc_ls)\n",
        "  relevant_anno = anno[(anno['Accession'].isin(pos_in_ls)) & (anno['ChEBI-ID']!='CHEBI:60504')]\n",
        "\n",
        "  def retrive_label(acc):\n",
        "  \n",
        "    target = np.zeros((18, len(acc_dc[acc])),dtype=np.int8)\n",
        "    if acc not in pos_in_ls:\n",
        "      return np.zeros(1,dtype=np.int8)\n",
        "    temp = relevant_anno[relevant_anno['Accession'] == acc]\n",
        "    for i, m in enumerate(coalesced_encode):\n",
        "      pos = list(temp[temp['ChEBI-ID']==m]['Position'])\n",
        "      ind = [j-1 for j in pos] # position in anno starts at 1, but label ndarray starts at 0\n",
        "      for x_ind in coalesced_encode[m]:\n",
        "        target[x_ind, ind] = 1\n",
        "    return target\n",
        "  \n",
        "  label_ls = [retrive_label(i) for i in acc_ls]\n",
        "  if npz_file is not None:\n",
        "    np.savez(npz_file, **dict(zip(acc_ls, label_ls)))\n",
        "\n",
        "  return label_ls"
      ],
      "metadata": {
        "id": "sf4YAcuyRy06"
      },
      "execution_count": null,
      "outputs": []
    },
    {
      "cell_type": "markdown",
      "source": [
        "# Scripts"
      ],
      "metadata": {
        "id": "sEcg4wNxV8WO"
      }
    },
    {
      "cell_type": "code",
      "source": [
        "fa_files = [f'train_neg{i}' for i in range(16)]"
      ],
      "metadata": {
        "id": "K-gTiQrZwDmQ"
      },
      "execution_count": null,
      "outputs": []
    },
    {
      "cell_type": "code",
      "source": [
        "fa_files.append('train_pos')"
      ],
      "metadata": {
        "id": "oRt2QftjwYbG"
      },
      "execution_count": null,
      "outputs": []
    },
    {
      "cell_type": "code",
      "source": [
        "fa_files.append('test_full')"
      ],
      "metadata": {
        "id": "MnWo62L5wfjF"
      },
      "execution_count": null,
      "outputs": []
    },
    {
      "cell_type": "code",
      "source": [
        "fa_files"
      ],
      "metadata": {
        "colab": {
          "base_uri": "https://localhost:8080/"
        },
        "id": "e2oZYOjmwkd_",
        "outputId": "3f833c8c-50fa-47df-fc76-3c0fa1475432"
      },
      "execution_count": null,
      "outputs": [
        {
          "output_type": "execute_result",
          "data": {
            "text/plain": [
              "['train_neg0',\n",
              " 'train_neg1',\n",
              " 'train_neg2',\n",
              " 'train_neg3',\n",
              " 'train_neg4',\n",
              " 'train_neg5',\n",
              " 'train_neg6',\n",
              " 'train_neg7',\n",
              " 'train_neg8',\n",
              " 'train_neg9',\n",
              " 'train_neg10',\n",
              " 'train_neg11',\n",
              " 'train_neg12',\n",
              " 'train_neg13',\n",
              " 'train_neg14',\n",
              " 'train_neg15',\n",
              " 'train_pos',\n",
              " 'test_full']"
            ]
          },
          "metadata": {},
          "execution_count": 131
        }
      ]
    },
    {
      "cell_type": "code",
      "source": [
        "fa_files = ['test']"
      ],
      "metadata": {
        "id": "AhynMANgG-L8"
      },
      "execution_count": null,
      "outputs": []
    },
    {
      "cell_type": "code",
      "source": [
        "for f in fa_files:\n",
        "  retrive_label_from_fasta(f'/content/data/{f}.fasta', npz_file = f'{f}.npz')"
      ],
      "metadata": {
        "colab": {
          "base_uri": "https://localhost:8080/"
        },
        "id": "ZPflWYZDWLsP",
        "outputId": "2e42275a-0562-43b2-b716-8b2d7525c350"
      },
      "execution_count": null,
      "outputs": [
        {
          "output_type": "stream",
          "name": "stdout",
          "text": [
            "Read 3911 sequences.\n",
            "Example:\n",
            "A0A0H3KB22\n",
            "MTYAVKEIFYTLQGEGANAGRPAVFCRFAGCNLWSGREEDRAQAVCRFCDTDFVGTDGENGGKFKDADALVATIAGLWPAGEAHRFVVCTGGEPMLQLDQPLVDALHAAGFGIAIETNGSLPVLESIDWICVSPKADAPLVVTKGNELKVVIPQDNQRLADYAKLDFEYFLVQPMDGPSRDLNTKLAIDWCKRHPQWRLSMQTHKYLNIP\n"
          ]
        }
      ]
    },
    {
      "cell_type": "code",
      "source": [
        "labels = np.load('/content/drive/MyDrive/FYP/label_write/test.npz')"
      ],
      "metadata": {
        "id": "0TGwuVMD7ESi"
      },
      "execution_count": null,
      "outputs": []
    },
    {
      "cell_type": "code",
      "source": [
        "list(labels.keys())[:10]"
      ],
      "metadata": {
        "colab": {
          "base_uri": "https://localhost:8080/"
        },
        "id": "I-vTFTNAHaOr",
        "outputId": "64e0cd83-b1dd-4cc3-a5ec-43cf47987fdb"
      },
      "execution_count": null,
      "outputs": [
        {
          "output_type": "execute_result",
          "data": {
            "text/plain": [
              "['A0A0H3KB22',\n",
              " 'A0A1C7D1B7',\n",
              " 'A0NLY7',\n",
              " 'A0Q5Y3',\n",
              " 'A0QZY0',\n",
              " 'A3DC27',\n",
              " 'A4XF23',\n",
              " 'A5TYT6',\n",
              " 'A9CK16',\n",
              " 'B0T0B1']"
            ]
          },
          "metadata": {},
          "execution_count": 19
        }
      ]
    },
    {
      "cell_type": "code",
      "source": [
        "labels['Q9VMG0']"
      ],
      "metadata": {
        "id": "oSydqKc_UAW2",
        "colab": {
          "base_uri": "https://localhost:8080/"
        },
        "outputId": "de827083-d73b-4c67-dff9-4d22f15e4a92"
      },
      "execution_count": null,
      "outputs": [
        {
          "output_type": "execute_result",
          "data": {
            "text/plain": [
              "array([0], dtype=int8)"
            ]
          },
          "metadata": {},
          "execution_count": 58
        }
      ]
    },
    {
      "cell_type": "code",
      "source": [
        "labels['P08200'].shape"
      ],
      "metadata": {
        "colab": {
          "base_uri": "https://localhost:8080/"
        },
        "id": "aiJTwfRrhVjg",
        "outputId": "a9eea045-9d83-4f79-fc4f-734f2bc6529b"
      },
      "execution_count": null,
      "outputs": [
        {
          "output_type": "execute_result",
          "data": {
            "text/plain": [
              "(18, 416)"
            ]
          },
          "metadata": {},
          "execution_count": 43
        }
      ]
    },
    {
      "cell_type": "code",
      "source": [
        "for i in labels['P08200']:\n",
        "  print(np.where(i == 1))"
      ],
      "metadata": {
        "colab": {
          "base_uri": "https://localhost:8080/"
        },
        "id": "ROOscTAiWnsL",
        "outputId": "f6ec319a-5928-4842-e400-2eebd14ac35c"
      },
      "execution_count": null,
      "outputs": [
        {
          "output_type": "stream",
          "name": "stdout",
          "text": [
            "(array([], dtype=int64),)\n",
            "(array([306]),)\n",
            "(array([], dtype=int64),)\n",
            "(array([], dtype=int64),)\n",
            "(array([], dtype=int64),)\n",
            "(array([306]),)\n",
            "(array([], dtype=int64),)\n",
            "(array([], dtype=int64),)\n",
            "(array([], dtype=int64),)\n",
            "(array([], dtype=int64),)\n",
            "(array([], dtype=int64),)\n",
            "(array([], dtype=int64),)\n",
            "(array([], dtype=int64),)\n",
            "(array([], dtype=int64),)\n",
            "(array([], dtype=int64),)\n",
            "(array([], dtype=int64),)\n",
            "(array([], dtype=int64),)\n",
            "(array([306]),)\n"
          ]
        }
      ]
    },
    {
      "cell_type": "code",
      "source": [
        "anno_smaller = pd.read_csv('POS_TRAIN.tsv', sep='\\t')"
      ],
      "metadata": {
        "id": "B2i7sGH8XBKr"
      },
      "execution_count": null,
      "outputs": []
    },
    {
      "cell_type": "code",
      "source": [
        "anno_smaller[anno_smaller['Accession'] == 'P08200'].iloc[1]"
      ],
      "metadata": {
        "colab": {
          "base_uri": "https://localhost:8080/"
        },
        "id": "_ryafFLTXJZx",
        "outputId": "53f27795-35ce-448b-ae9b-693fb0b5df88"
      },
      "execution_count": null,
      "outputs": [
        {
          "output_type": "execute_result",
          "data": {
            "text/plain": [
              "Accession         P08200\n",
              "Evidence     ECO:0000269\n",
              "ChEBI-ID     CHEBI:18420\n",
              "Position             307\n",
              "Name: 9333, dtype: object"
            ]
          },
          "metadata": {},
          "execution_count": 52
        }
      ]
    },
    {
      "cell_type": "code",
      "source": [
        "!cp *.npz /content/drive/MyDrive/FYP/label_write/"
      ],
      "metadata": {
        "id": "LmxM4w-Vz1lb"
      },
      "execution_count": null,
      "outputs": []
    }
  ],
  "metadata": {
    "colab": {
      "provenance": [],
      "collapsed_sections": [
        "wVTD_KVwrK0h",
        "mRCS4BVy9kZ7"
      ],
      "mount_file_id": "11qnFuI-8zU4nPmZHEHfQLKKA37teDdAk",
      "authorship_tag": "ABX9TyMwkEEonnUvp9iQ6iBwCqJ8",
      "include_colab_link": true
    },
    "kernelspec": {
      "display_name": "Python 3",
      "name": "python3"
    },
    "language_info": {
      "name": "python"
    }
  },
  "nbformat": 4,
  "nbformat_minor": 0
}